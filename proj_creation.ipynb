{
 "cells": [
  {
   "cell_type": "code",
   "execution_count": 6,
   "metadata": {},
   "outputs": [
    {
     "data": {
      "text/plain": [
       "True"
      ]
     },
     "execution_count": 6,
     "metadata": {},
     "output_type": "execute_result"
    }
   ],
   "source": [
    "import pandas as pd\n",
    "import numpy as np\n",
    "import requests\n",
    "from dotenv import load_dotenv\n",
    "import os\n",
    "\n",
    "load_dotenv()"
   ]
  },
  {
   "cell_type": "code",
   "execution_count": 7,
   "metadata": {},
   "outputs": [],
   "source": [
    "DRUPAL_URL = os.getenv(\"DRUPAL_URL\")\n",
    "USERNAME = os.getenv(\"USERNAME\")\n",
    "PASSWORD =  os.getenv(\"PASSWORD\")"
   ]
  },
  {
   "cell_type": "code",
   "execution_count": null,
   "metadata": {},
   "outputs": [],
   "source": []
  },
  {
   "cell_type": "code",
   "execution_count": null,
   "metadata": {},
   "outputs": [],
   "source": [
    "# Create client instance\n",
    "client = DrupalJSONAPIClient(DRUPAL_URL, USERNAME, PASSWORD)\n",
    "\n",
    "# Example project data\n",
    "project_data = {\n",
    "    \"project_name\": \"Test Hospital Project\",\n",
    "    \"adresse\": \"123 Medical Street\",\n",
    "    \"description\": \"New hospital wing construction\",\n",
    "    \"federal_state\": \"Bavaria\",\n",
    "    \"geo_data\": \"POINT(13.404954 52.520008)\",\n",
    "    \"hospital\": \"Central Hospital\",\n",
    "    \"latitude\": 52.520008,\n",
    "    \"longitude\": 13.404954,\n",
    "    \"status\": \"In Progress\"\n",
    "}\n",
    "\n",
    "# Create the project\n",
    "response = client.create_project(project_data)\n",
    "\n",
    "if response.status_code == 201:\n",
    "    print(\"Project created successfully!\")\n",
    "else:\n",
    "    print(f\"Error creating project: {response.status_code}\")"
   ]
  }
 ],
 "metadata": {
  "kernelspec": {
   "display_name": "venv_dir",
   "language": "python",
   "name": "python3"
  },
  "language_info": {
   "codemirror_mode": {
    "name": "ipython",
    "version": 3
   },
   "file_extension": ".py",
   "mimetype": "text/x-python",
   "name": "python",
   "nbconvert_exporter": "python",
   "pygments_lexer": "ipython3",
   "version": "3.11.2"
  }
 },
 "nbformat": 4,
 "nbformat_minor": 2
}
